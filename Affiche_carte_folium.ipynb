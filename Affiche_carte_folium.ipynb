{
 "cells": [
  {
   "cell_type": "code",
   "execution_count": 1,
   "id": "8b3f2928-6946-4f63-9521-f9a7c1987356",
   "metadata": {},
   "outputs": [],
   "source": [
    "# Importation des fonctions définies dans les fichiers biodiv\n",
    "import geopandas as gpd\n",
    "import folium\n",
    "from affichage_carte_biodiv import afficher_carte_maille\n",
    "path='C:/Users/anormand/Documents/Projet Python/Biodiv'\n",
    "\n",
    "def ajouter_couche_carte(m,nom_fichier,color):\n",
    "    fichier = path+r'\\Data\\map'+'/'+nom_fichier\n",
    "    gdf=gpd.read_file(fichier)\n",
    "    if gdf.crs != 'EPSG:4326':\n",
    "        gdf = gdf.to_crs('EPSG:4326')\n",
    "\n",
    "    for _, row in gdf.iterrows():\n",
    "        # Convertir la géométrie en GeoJSON\n",
    "        geojson = folium.GeoJson(\n",
    "            row['geometry'],\n",
    "            style_function=lambda x: {'fillColor': color, 'color': 'black', 'weight': 1}\n",
    "        )\n",
    "        # Ajouter le popup ou tooltip pour le code\n",
    "        geojson.add_to(m)"
   ]
  },
  {
   "cell_type": "code",
   "execution_count": 2,
   "id": "5bbeaa0b-bf79-408e-b62d-3e7b0dff92ab",
   "metadata": {},
   "outputs": [
    {
     "name": "stderr",
     "output_type": "stream",
     "text": [
      "C:\\Users\\anormand\\Documents\\Projet Python\\Biodiv\\Code\\affichage_carte_biodiv.py:220: UserWarning: Geometry is in a geographic CRS. Results from 'centroid' are likely incorrect. Use 'GeoSeries.to_crs()' to re-project geometries to a projected CRS before this operation.\n",
      "\n",
      "  center = [gdf.geometry.centroid.y.mean(), gdf.geometry.centroid.x.mean()]\n"
     ]
    }
   ],
   "source": [
    "# Afficher la carte avec les mailles\n",
    "mailles_fp = path+r'\\Data\\map\\L93_10X10.shx'\n",
    "carte_maille = gpd.read_file(mailles_fp)\n",
    "\n",
    "nouveaux_noms_columns = {'CD_SIG': 'codeMaille10Km'}\n",
    "carte_maille = carte_maille.rename(columns=nouveaux_noms_columns)\n",
    "\n",
    "m=afficher_carte_maille(carte_maille)"
   ]
  },
  {
   "cell_type": "code",
   "execution_count": 3,
   "id": "4540fd10-e024-4ae8-a1a2-1b890f372ee4",
   "metadata": {},
   "outputs": [],
   "source": [
    "ajouter_couche_carte(m,'N_ENP_PNR_S_000.shx','yellow') #PNR\n",
    "ajouter_couche_carte(m,'N_ENP_PN_S_000.shx','green') #PN"
   ]
  },
  {
   "cell_type": "code",
   "execution_count": null,
   "id": "87088e3f-10ac-4966-bcc3-5fb9abb3fb38",
   "metadata": {},
   "outputs": [],
   "source": [
    "ajouter_couche_carte(m,'N_SRCE_COURS_EAU_L_000.shx','blue') #PNR\n",
    "ajouter_couche_carte(m,'N_SRCE_COURS_EAU_S_000.shx','cyan') #PNR"
   ]
  },
  {
   "cell_type": "code",
   "execution_count": 4,
   "id": "aea0a881-ba1f-431d-bc04-363e58289e87",
   "metadata": {},
   "outputs": [
    {
     "data": {
      "text/plain": [
       "True"
      ]
     },
     "execution_count": 4,
     "metadata": {},
     "output_type": "execute_result"
    }
   ],
   "source": [
    "# Enregistrer la carte en tant que fichier HTML\n",
    "m.save('ma_carte.html')\n",
    "\n",
    "# Ouvrir automatiquement la carte dans le navigateur par défaut\n",
    "import webbrowser\n",
    "webbrowser.open('ma_carte.html')"
   ]
  },
  {
   "cell_type": "code",
   "execution_count": null,
   "id": "377c81ab-485c-46b9-96b7-50282cbc14f0",
   "metadata": {},
   "outputs": [],
   "source": []
  }
 ],
 "metadata": {
  "kernelspec": {
   "display_name": "Python 3 (ipykernel)",
   "language": "python",
   "name": "python3"
  },
  "language_info": {
   "codemirror_mode": {
    "name": "ipython",
    "version": 3
   },
   "file_extension": ".py",
   "mimetype": "text/x-python",
   "name": "python",
   "nbconvert_exporter": "python",
   "pygments_lexer": "ipython3",
   "version": "3.12.4"
  }
 },
 "nbformat": 4,
 "nbformat_minor": 5
}
